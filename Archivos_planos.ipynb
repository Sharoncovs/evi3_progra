{
  "nbformat": 4,
  "nbformat_minor": 0,
  "metadata": {
    "colab": {
      "provenance": []
    },
    "kernelspec": {
      "name": "python3",
      "display_name": "Python 3"
    },
    "language_info": {
      "name": "python"
    }
  },
  "cells": [
    {
      "cell_type": "code",
      "execution_count": null,
      "metadata": {
        "id": "udgEgy-ojUiR"
      },
      "outputs": [],
      "source": [
        "##Crear un archivo de texto llamado 'datos.txt', almacenar tres lineas de texto\n",
        "##Abrir luego el archivo creado con un editor de texto.\n",
        "archivo1=open(\"datos.txt\",\"w\")\n",
        "archivo1.write(\"Sharon\\n\")\n",
        "archivo1.write(\"Karla\\n\")\n",
        "archivo1.write(\"Ivan\\n\")\n",
        "archivo1.close()"
      ]
    },
    {
      "cell_type": "code",
      "source": [
        "#Leer el contenido del archivo de texto 'datos.txt'\n",
        "archivo1=open(\"datos.txt\",\"r\")\n",
        "contenido=archivo1.read()\n",
        "print(contenido)\n",
        "archivo1.close()"
      ],
      "metadata": {
        "colab": {
          "base_uri": "https://localhost:8080/"
        },
        "id": "jarlRbdgbdLC",
        "outputId": "6ad92111-8a06-44a1-b629-1e75be31a535"
      },
      "execution_count": null,
      "outputs": [
        {
          "output_type": "stream",
          "name": "stdout",
          "text": [
            "Sharon\n",
            "Karla\n",
            "Ivan\n",
            "\n"
          ]
        }
      ]
    },
    {
      "cell_type": "code",
      "source": [
        "##Leer el contenido del archivo de texto 'datos.txt' línea a línea.\n",
        "archivo1=open(\"datos.txt\",\"r\")\n",
        "linea=archivo1.readline()\n",
        "while linea!='':\n",
        "  print(linea, end='')\n",
        "  linea=archivo1.readline()\n",
        "archivo1.close()"
      ],
      "metadata": {
        "colab": {
          "base_uri": "https://localhost:8080/"
        },
        "id": "d8zOkvIxb60C",
        "outputId": "723650ac-702a-45cb-e72d-46eded5b5f46"
      },
      "execution_count": null,
      "outputs": [
        {
          "output_type": "stream",
          "name": "stdout",
          "text": [
            "Sharon\n",
            "Karla\n",
            "Ivan\n"
          ]
        }
      ]
    },
    {
      "cell_type": "code",
      "source": [
        "archivo1=open(\"datos.txt\",\"r\")\n",
        "for linea in archivo1:\n",
        "    print(linea, end='')\n",
        "archivo1.close()"
      ],
      "metadata": {
        "colab": {
          "base_uri": "https://localhost:8080/"
        },
        "id": "DOlOWKRFdCwp",
        "outputId": "3462c9f9-527b-4e27-f4a7-7cbbb8a26688"
      },
      "execution_count": null,
      "outputs": [
        {
          "output_type": "stream",
          "name": "stdout",
          "text": [
            "Sharon\n",
            "Karla\n",
            "Ivan\n"
          ]
        }
      ]
    },
    {
      "cell_type": "code",
      "source": [
        "##Leer el contenido del archivo de texto 'datos.txt' y almacenar sus líneas en una lista.\n",
        "#Imprimir la cantidad de líneas que tiene el archivo y su contenido.\n",
        "archivo1=open(\"datos.txt\",\"r\")\n",
        "lineas=archivo1.readlines()\n",
        "print ('Cantidad de lineas de el archivo', len(lineas), 'lineas')\n",
        "print ('Contenido del archivo')\n",
        "for linea in lineas:\n",
        "  print(linea,end=' ')\n",
        "archivo1.close()"
      ],
      "metadata": {
        "colab": {
          "base_uri": "https://localhost:8080/"
        },
        "id": "gZo3iaxCfOQx",
        "outputId": "8ea32d59-7c2c-4c31-a05d-23eea8e2c790"
      },
      "execution_count": null,
      "outputs": [
        {
          "output_type": "stream",
          "name": "stdout",
          "text": [
            "Cantidad de lineas de el archivo 3 lineas\n",
            "Contenido del archivo\n",
            "Sharon\n",
            " Karla\n",
            " Ivan\n",
            " "
          ]
        }
      ]
    },
    {
      "cell_type": "code",
      "source": [
        "#Abrir el archivo de texto 'datos.txt' y luego agregar 2 líneas. Imprimir luego el archivo completo.\n",
        "archivo1=open(\"datos.txt\", \"a\")\n",
        "archivo1.write(\"nueva linea 1\\n\")\n",
        "archivo1.write(\"nueva linea 2\\n\")\n",
        "archivo1.close()\n",
        "archivo1=open(\"datos.txt\", \"r\")\n",
        "contenido=archivo1.read()\n",
        "print(contenido)\n",
        "archivo1.close()"
      ],
      "metadata": {
        "id": "LNWAvKGzhefX",
        "colab": {
          "base_uri": "https://localhost:8080/"
        },
        "outputId": "0ff7df69-ff4d-4c37-9000-803fc74d8d13"
      },
      "execution_count": null,
      "outputs": [
        {
          "output_type": "stream",
          "name": "stdout",
          "text": [
            "Sharon\n",
            "Karla\n",
            "Ivan\n",
            "nueva linea 1\n",
            "nueva linea 2\n",
            "\n"
          ]
        }
      ]
    },
    {
      "cell_type": "code",
      "source": [
        "##Abrir un archivo de texto con el parámetro \"r+\", imprimir su contenido actual y agregar luego dos líneas al final.\n",
        "archivo1=open(\"datos.txt\", \"r+\")\n",
        "contenido_actual=archivo1.read()\n",
        "print(contenido_actual)\n",
        "archivo1.write(\"otra linea 1\\n\")\n",
        "archivo1.write(\"otra linea 2\\n\")\n",
        "archivo1.close()"
      ],
      "metadata": {
        "colab": {
          "base_uri": "https://localhost:8080/"
        },
        "id": "GRVny77pIsSt",
        "outputId": "2af2c019-ea00-47e9-c1b1-e34e68c2e802"
      },
      "execution_count": null,
      "outputs": [
        {
          "output_type": "stream",
          "name": "stdout",
          "text": [
            "primer linea.\n",
            "segunda linea.\n",
            "tercer linea.\n",
            "\n"
          ]
        }
      ]
    },
    {
      "cell_type": "code",
      "source": [
        "##Crear un archivo de texto llamado 'datos.txt' con una codificacion utf-8, almacenar tres lineas de texto.\n",
        "##Abrir luego el archivo creado con el editor VS Code.\n",
        "archivo1=open(\"datos.txt\", \"w\", encoding=\"utf-8\")\n",
        "archivo1.write(\"primer linea.\\n\")\n",
        "archivo1.write(\"segunda linea.\\n\")\n",
        "archivo1.write(\"tercer linea.\\n\")\n",
        "archivo1.close()"
      ],
      "metadata": {
        "id": "ZKatpriKK8P5"
      },
      "execution_count": null,
      "outputs": []
    }
  ]
}